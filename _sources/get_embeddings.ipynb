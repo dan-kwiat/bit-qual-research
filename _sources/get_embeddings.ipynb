{
 "cells": [
  {
   "cell_type": "markdown",
   "metadata": {},
   "source": [
    "## 1. Load the dataset\n",
    "\n",
    "The dataset used in this example is survey data on food waste during ramadan\n",
    "(provided by Jordan W-M)\n"
   ]
  },
  {
   "attachments": {},
   "cell_type": "markdown",
   "metadata": {},
   "source": [
    "To run this notebook, you will need to install: pandas, openai, transformers,\n",
    "plotly, matplotlib, scikit-learn, torch (transformer dep), torchvision, and\n",
    "scipy.\n"
   ]
  },
  {
   "cell_type": "code",
   "execution_count": 10,
   "metadata": {},
   "outputs": [],
   "source": [
    "import pandas as pd\n",
    "import tiktoken\n",
    "import openai\n",
    "\n",
    "from openai.embeddings_utils import get_embedding\n"
   ]
  },
  {
   "cell_type": "code",
   "execution_count": 11,
   "metadata": {},
   "outputs": [],
   "source": [
    "# embedding model parameters\n",
    "embedding_model = \"text-embedding-ada-002\"\n",
    "embedding_encoding = \"cl100k_base\"  # this the encoding for text-embedding-ada-002\n",
    "max_tokens = 8000  # the maximum for text-embedding-ada-002 is 8191\n"
   ]
  },
  {
   "cell_type": "code",
   "execution_count": 12,
   "metadata": {},
   "outputs": [
    {
     "data": {
      "text/html": [
       "<div>\n",
       "<style scoped>\n",
       "    .dataframe tbody tr th:only-of-type {\n",
       "        vertical-align: middle;\n",
       "    }\n",
       "\n",
       "    .dataframe tbody tr th {\n",
       "        vertical-align: top;\n",
       "    }\n",
       "\n",
       "    .dataframe thead th {\n",
       "        text-align: right;\n",
       "    }\n",
       "</style>\n",
       "<table border=\"1\" class=\"dataframe\">\n",
       "  <thead>\n",
       "    <tr style=\"text-align: right;\">\n",
       "      <th></th>\n",
       "      <th>whyRamLess</th>\n",
       "      <th>whyCompMore</th>\n",
       "      <th>whyProblemSoc</th>\n",
       "      <th>encourage</th>\n",
       "    </tr>\n",
       "  </thead>\n",
       "  <tbody>\n",
       "    <tr>\n",
       "      <th>1</th>\n",
       "      <td>Dgbbb</td>\n",
       "      <td>Fvbbnn</td>\n",
       "      <td>Ffgvb</td>\n",
       "      <td>Cbnn</td>\n",
       "    </tr>\n",
       "    <tr>\n",
       "      <th>2</th>\n",
       "      <td>Because i am from Dawoodi bohra community and ...</td>\n",
       "      <td>Because i think i shouĺd improve more...people...</td>\n",
       "      <td>Because people don't care it mych in GCC count...</td>\n",
       "      <td>We should think about those who have no access...</td>\n",
       "    </tr>\n",
       "  </tbody>\n",
       "</table>\n",
       "</div>"
      ],
      "text/plain": [
       "                                          whyRamLess  \\\n",
       "1                                              Dgbbb   \n",
       "2  Because i am from Dawoodi bohra community and ...   \n",
       "\n",
       "                                         whyCompMore  \\\n",
       "1                                             Fvbbnn   \n",
       "2  Because i think i shouĺd improve more...people...   \n",
       "\n",
       "                                       whyProblemSoc  \\\n",
       "1                                              Ffgvb   \n",
       "2  Because people don't care it mych in GCC count...   \n",
       "\n",
       "                                           encourage  \n",
       "1                                               Cbnn  \n",
       "2  We should think about those who have no access...  "
      ]
     },
     "execution_count": 12,
     "metadata": {},
     "output_type": "execute_result"
    }
   ],
   "source": [
    "# load & inspect dataset\n",
    "input_datapath = \"data/english_free_text.csv\"\n",
    "df = pd.read_csv(input_datapath, index_col=0)\n",
    "questions = [\"whyRamLess\", \"whyCompMore\", \"whyProblemSoc\", \"encourage\"]\n",
    "df = df[questions]\n",
    "\n",
    "df = df.dropna()\n",
    "df = df.applymap(lambda x: x.strip() if isinstance(x, str) else x)\n",
    "\n",
    "df.head(2)\n"
   ]
  },
  {
   "cell_type": "code",
   "execution_count": 13,
   "metadata": {},
   "outputs": [],
   "source": [
    "# # subsample to 1k most recent reviews and remove samples that are too long\n",
    "# top_n = 1000\n",
    "# # first cut to first 2k entries, assuming less than half will be filtered out\n",
    "# df = df.tail(top_n * 2)\n",
    "\n",
    "# encoding = tiktoken.get_encoding(embedding_encoding)\n",
    "\n",
    "# questionId = 0  # the first question\n",
    "\n",
    "# # omit reviews that are too long to embed\n",
    "# df[\"n_tokens\"] = df.iloc[:, questionId].apply(lambda x: len(encoding.encode(x)))\n",
    "\n",
    "# df = df[df.n_tokens <= max_tokens].tail(top_n)\n",
    "# len(df)\n"
   ]
  },
  {
   "attachments": {},
   "cell_type": "markdown",
   "metadata": {},
   "source": [
    "## 2. Get embeddings and save them for future reuse\n"
   ]
  },
  {
   "cell_type": "code",
   "execution_count": 14,
   "metadata": {},
   "outputs": [
    {
     "name": "stdout",
     "output_type": "stream",
     "text": [
      "Getting embeddings for column \"whyRamLess\"\n",
      "Getting embeddings for column \"whyCompMore\"\n",
      "Getting embeddings for column \"whyProblemSoc\"\n",
      "Getting embeddings for column \"encourage\"\n"
     ]
    }
   ],
   "source": [
    "# Ensure you have your API key set in your environment per the README: https://github.com/openai/openai-python#usage\n",
    "\n",
    "# This may take a few minutes\n",
    "for col in questions:\n",
    "    print(f'Getting embeddings for column \"{col}\"')\n",
    "    df[col + \"-embedding\"] = df.loc[:, col].apply(lambda x: get_embedding(x, engine=embedding_model))\n",
    "\n",
    "df.to_csv(\"data/english_free_text_with_embeddings_1k.csv\")\n"
   ]
  }
 ],
 "metadata": {
  "kernelspec": {
   "display_name": "openai",
   "language": "python",
   "name": "python3"
  },
  "language_info": {
   "codemirror_mode": {
    "name": "ipython",
    "version": 3
   },
   "file_extension": ".py",
   "mimetype": "text/x-python",
   "name": "python",
   "nbconvert_exporter": "python",
   "pygments_lexer": "ipython3",
   "version": "3.10.6"
  },
  "orig_nbformat": 4,
  "vscode": {
   "interpreter": {
    "hash": "365536dcbde60510dc9073d6b991cd35db2d9bac356a11f5b64279a5e6708b97"
   }
  }
 },
 "nbformat": 4,
 "nbformat_minor": 2
}
