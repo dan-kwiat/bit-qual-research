{
 "cells": [
  {
   "cell_type": "markdown",
   "metadata": {},
   "source": [
    "# Calculate vector embeddings\n"
   ]
  },
  {
   "cell_type": "code",
   "execution_count": 1,
   "metadata": {},
   "outputs": [],
   "source": [
    "import lib\n",
    "import pandas as pd\n",
    "import matplotlib"
   ]
  },
  {
   "cell_type": "code",
   "execution_count": 3,
   "metadata": {},
   "outputs": [],
   "source": [
    "# input_datapath = \"data/english_free_text.csv\"\n",
    "# headers = [\"whyRamLess\", \"whyCompMore\", \"whyProblemSoc\", \"encourage\"]\n",
    "# cols_to_embed = [\"whyRamLess\", \"whyCompMore\", \"whyProblemSoc\", \"encourage\"]\n",
    "# index_col = 0\n",
    "\n",
    "input_datapath = \"data/gambling_feedback_data.csv\"\n",
    "headers = [\"feedback\",\"treatment\",\"limit_on\",\"block_on\"]\n",
    "cols_to_embed = [\"feedback\"]\n",
    "index_col = None"
   ]
  },
  {
   "cell_type": "code",
   "execution_count": 5,
   "metadata": {},
   "outputs": [],
   "source": [
    "max_tokens = 8000  # the maximum for text-embedding-ada-002 is 8191"
   ]
  },
  {
   "cell_type": "code",
   "execution_count": 6,
   "metadata": {},
   "outputs": [
    {
     "name": "stderr",
     "output_type": "stream",
     "text": [
      "/var/folders/4c/5kctcgk55539047v8xy3clj80000gn/T/ipykernel_91935/3179908913.py:6: FutureWarning: DataFrame.applymap has been deprecated. Use DataFrame.map instead.\n",
      "  df = df.applymap(lambda x: x.strip() if isinstance(x, str) else x)\n"
     ]
    },
    {
     "data": {
      "text/html": [
       "<div>\n",
       "<style scoped>\n",
       "    .dataframe tbody tr th:only-of-type {\n",
       "        vertical-align: middle;\n",
       "    }\n",
       "\n",
       "    .dataframe tbody tr th {\n",
       "        vertical-align: top;\n",
       "    }\n",
       "\n",
       "    .dataframe thead th {\n",
       "        text-align: right;\n",
       "    }\n",
       "</style>\n",
       "<table border=\"1\" class=\"dataframe\">\n",
       "  <thead>\n",
       "    <tr style=\"text-align: right;\">\n",
       "      <th></th>\n",
       "      <th>feedback</th>\n",
       "      <th>treatment</th>\n",
       "      <th>limit_on</th>\n",
       "      <th>block_on</th>\n",
       "    </tr>\n",
       "  </thead>\n",
       "  <tbody>\n",
       "    <tr>\n",
       "      <th>0</th>\n",
       "      <td>good</td>\n",
       "      <td>4</td>\n",
       "      <td>0</td>\n",
       "      <td>0</td>\n",
       "    </tr>\n",
       "    <tr>\n",
       "      <th>1</th>\n",
       "      <td>no it was helpful</td>\n",
       "      <td>4</td>\n",
       "      <td>0</td>\n",
       "      <td>0</td>\n",
       "    </tr>\n",
       "  </tbody>\n",
       "</table>\n",
       "</div>"
      ],
      "text/plain": [
       "            feedback  treatment  limit_on  block_on\n",
       "0               good          4         0         0\n",
       "1  no it was helpful          4         0         0"
      ]
     },
     "execution_count": 6,
     "metadata": {},
     "output_type": "execute_result"
    }
   ],
   "source": [
    "# load & inspect dataset\n",
    "df = pd.read_csv(input_datapath, index_col=index_col)\n",
    "df = df[headers]\n",
    "\n",
    "df = df.dropna()\n",
    "df = df.applymap(lambda x: x.strip() if isinstance(x, str) else x)\n",
    "\n",
    "print(df.shape)\n",
    "df.head(2)\n"
   ]
  },
  {
   "cell_type": "code",
   "execution_count": 13,
   "metadata": {},
   "outputs": [],
   "source": [
    "# # subsample to 1k most recent reviews and remove samples that are too long\n",
    "# top_n = 1000\n",
    "# # first cut to first 2k entries, assuming less than half will be filtered out\n",
    "# df = df.tail(top_n * 2)\n",
    "\n",
    "# questionId = 0  # the first question\n",
    "\n",
    "# # omit reviews that are too long to embed\n",
    "# df[\"n_tokens\"] = df.iloc[:, questionId].apply(lambda x: lib.get_num_tokens(x))\n",
    "\n",
    "# df = df[df.n_tokens <= max_tokens].tail(top_n)\n",
    "# len(df)\n"
   ]
  },
  {
   "cell_type": "markdown",
   "metadata": {},
   "source": [
    "## Count tokens\n"
   ]
  },
  {
   "cell_type": "code",
   "execution_count": 7,
   "metadata": {},
   "outputs": [
    {
     "name": "stdout",
     "output_type": "stream",
     "text": [
      "Counting tokens for column \"feedback\"\n"
     ]
    }
   ],
   "source": [
    "for col in cols_to_embed:\n",
    "    print(f'Counting tokens for column \"{col}\"')\n",
    "    df[col + \"-num_tokens\"] = df.loc[:, col].apply(lib.get_num_tokens)\n",
    "\n",
    "\n",
    "df.to_csv(f\"{input_datapath.split('.')[0]}_with_num_tokens.csv\")"
   ]
  },
  {
   "cell_type": "code",
   "execution_count": 9,
   "metadata": {},
   "outputs": [
    {
     "name": "stdout",
     "output_type": "stream",
     "text": [
      "Token stats:\n",
      "\n",
      "======\n",
      "min: 1\n",
      "max: 104\n",
      "mean: 10\n",
      "median: 7\n",
      "======\n"
     ]
    },
    {
     "data": {
      "text/plain": [
       "<Axes: >"
      ]
     },
     "execution_count": 9,
     "metadata": {},
     "output_type": "execute_result"
    },
    {
     "data": {
      "image/png": "[encoded data removed]",
      "text/plain": [
       "<Figure size 640x480 with 1 Axes>"
      ]
     },
     "metadata": {},
     "output_type": "display_data"
    }
   ],
   "source": [
    "\n",
    "# print min, max, mean, median num tokens:\n",
    "print(\n",
    "    f\"Token stats:\\n\\n======\\nmin: {df['feedback-num_tokens'].min()}\\nmax: {df['feedback-num_tokens'].max()}\\nmean: {df['feedback-num_tokens'].mean().__round__()}\\nmedian: {df['feedback-num_tokens'].median().__round__()}\\n======\"\n",
    ")\n",
    "\n",
    "df['feedback-num_tokens'].hist(bins=50)"
   ]
  },
  {
   "attachments": {},
   "cell_type": "markdown",
   "metadata": {},
   "source": [
    "## 2. Get embeddings and save them for future reuse\n"
   ]
  },
  {
   "cell_type": "code",
   "execution_count": 26,
   "metadata": {},
   "outputs": [
    {
     "name": "stdout",
     "output_type": "stream",
     "text": [
      "data/gambling_feedback_data_with_embeddings.csv\n",
      "Getting embeddings for column \"feedback\"\n"
     ]
    }
   ],
   "source": [
    "# This takes ~15 minutes on ~2000 samples with mean of 10 tokens/sample\n",
    "\n",
    "for col in cols_to_embed:\n",
    "    print(f'Getting embeddings for column \"{col}\"')\n",
    "    # with_embeds = df.head().loc[:, col].apply(lib.get_embedding)\n",
    "    df[col + \"-embedding\"] = df.loc[:, col].apply(lib.get_embedding)\n",
    "\n",
    "df.to_csv(f\"{input_datapath.split('.')[0]}_with_embeddings.csv\")\n"
   ]
  }
 ],
 "metadata": {
  "kernelspec": {
   "display_name": "openai",
   "language": "python",
   "name": "python3"
  },
  "language_info": {
   "codemirror_mode": {
    "name": "ipython",
    "version": 3
   },
   "file_extension": ".py",
   "mimetype": "text/x-python",
   "name": "python",
   "nbconvert_exporter": "python",
   "pygments_lexer": "ipython3",
   "version": "3.11.5"
  },
  "orig_nbformat": 4,
  "vscode": {
   "interpreter": {
    "hash": "365536dcbde60510dc9073d6b991cd35db2d9bac356a11f5b64279a5e6708b97"
   }
  }
 },
 "nbformat": 4,
 "nbformat_minor": 2
}
