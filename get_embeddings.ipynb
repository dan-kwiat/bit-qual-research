{
 "cells": [
  {
   "cell_type": "markdown",
   "metadata": {},
   "source": [
    "## 1. Load the dataset\n",
    "\n",
    "The dataset used in this example is survey data on food waste during ramadan\n",
    "(provided by Jordan W-M)\n"
   ]
  },
  {
   "attachments": {},
   "cell_type": "markdown",
   "metadata": {},
   "source": [
    "To run this notebook, you will need to install: pandas, openai, transformers,\n",
    "plotly, matplotlib, scikit-learn, torch (transformer dep), torchvision, and\n",
    "scipy.\n"
   ]
  },
  {
   "cell_type": "code",
   "execution_count": 14,
   "metadata": {},
   "outputs": [],
   "source": [
    "import pandas as pd\n",
    "from openai import OpenAI\n",
    "client = OpenAI()\n"
   ]
  },
  {
   "cell_type": "code",
   "execution_count": 26,
   "metadata": {},
   "outputs": [],
   "source": [
    "def get_embedding(input: str):\n",
    "    response = client.embeddings.create(\n",
    "      input=input,\n",
    "      model=\"text-embedding-ada-002\"\n",
    "    )\n",
    "    return response.data[0].embedding"
   ]
  },
  {
   "cell_type": "code",
   "execution_count": 29,
   "metadata": {},
   "outputs": [],
   "source": [
    "# input_datapath = \"data/english_free_text.csv\"\n",
    "# headers = [\"whyRamLess\", \"whyCompMore\", \"whyProblemSoc\", \"encourage\"]\n",
    "# cols_to_embed = [\"whyRamLess\", \"whyCompMore\", \"whyProblemSoc\", \"encourage\"]\n",
    "# index_col = 0\n",
    "\n",
    "input_datapath = \"data/gambling_feedback_data.csv\"\n",
    "headers = [\"feedback\",\"treatment\",\"limit_on\",\"block_on\"]\n",
    "cols_to_embed = [\"feedback\"]\n",
    "index_col = None"
   ]
  },
  {
   "cell_type": "code",
   "execution_count": 21,
   "metadata": {},
   "outputs": [],
   "source": [
    "embedding_encoding = \"cl100k_base\"  # this the encoding for text-embedding-ada-002\n",
    "max_tokens = 8000  # the maximum for text-embedding-ada-002 is 8191"
   ]
  },
  {
   "cell_type": "code",
   "execution_count": 25,
   "metadata": {},
   "outputs": [
    {
     "name": "stderr",
     "output_type": "stream",
     "text": [
      "/var/folders/4c/5kctcgk55539047v8xy3clj80000gn/T/ipykernel_91074/3179908913.py:6: FutureWarning: DataFrame.applymap has been deprecated. Use DataFrame.map instead.\n",
      "  df = df.applymap(lambda x: x.strip() if isinstance(x, str) else x)\n"
     ]
    },
    {
     "data": {
      "text/html": [
       "<div>\n",
       "<style scoped>\n",
       "    .dataframe tbody tr th:only-of-type {\n",
       "        vertical-align: middle;\n",
       "    }\n",
       "\n",
       "    .dataframe tbody tr th {\n",
       "        vertical-align: top;\n",
       "    }\n",
       "\n",
       "    .dataframe thead th {\n",
       "        text-align: right;\n",
       "    }\n",
       "</style>\n",
       "<table border=\"1\" class=\"dataframe\">\n",
       "  <thead>\n",
       "    <tr style=\"text-align: right;\">\n",
       "      <th></th>\n",
       "      <th>feedback</th>\n",
       "      <th>treatment</th>\n",
       "      <th>limit_on</th>\n",
       "      <th>block_on</th>\n",
       "    </tr>\n",
       "  </thead>\n",
       "  <tbody>\n",
       "    <tr>\n",
       "      <th>0</th>\n",
       "      <td>good</td>\n",
       "      <td>4</td>\n",
       "      <td>0</td>\n",
       "      <td>0</td>\n",
       "    </tr>\n",
       "    <tr>\n",
       "      <th>1</th>\n",
       "      <td>no it was helpful</td>\n",
       "      <td>4</td>\n",
       "      <td>0</td>\n",
       "      <td>0</td>\n",
       "    </tr>\n",
       "  </tbody>\n",
       "</table>\n",
       "</div>"
      ],
      "text/plain": [
       "            feedback  treatment  limit_on  block_on\n",
       "0               good          4         0         0\n",
       "1  no it was helpful          4         0         0"
      ]
     },
     "execution_count": 25,
     "metadata": {},
     "output_type": "execute_result"
    }
   ],
   "source": [
    "# load & inspect dataset\n",
    "df = pd.read_csv(input_datapath, index_col=index_col)\n",
    "df = df[headers]\n",
    "\n",
    "df = df.dropna()\n",
    "df = df.applymap(lambda x: x.strip() if isinstance(x, str) else x)\n",
    "\n",
    "df.head(2)\n"
   ]
  },
  {
   "cell_type": "code",
   "execution_count": 13,
   "metadata": {},
   "outputs": [],
   "source": [
    "# # subsample to 1k most recent reviews and remove samples that are too long\n",
    "# top_n = 1000\n",
    "# # first cut to first 2k entries, assuming less than half will be filtered out\n",
    "# df = df.tail(top_n * 2)\n",
    "\n",
    "# encoding = tiktoken.get_encoding(embedding_encoding)\n",
    "\n",
    "# questionId = 0  # the first question\n",
    "\n",
    "# # omit reviews that are too long to embed\n",
    "# df[\"n_tokens\"] = df.iloc[:, questionId].apply(lambda x: len(encoding.encode(x)))\n",
    "\n",
    "# df = df[df.n_tokens <= max_tokens].tail(top_n)\n",
    "# len(df)\n"
   ]
  },
  {
   "attachments": {},
   "cell_type": "markdown",
   "metadata": {},
   "source": [
    "## 2. Get embeddings and save them for future reuse\n"
   ]
  },
  {
   "cell_type": "code",
   "execution_count": 30,
   "metadata": {},
   "outputs": [
    {
     "name": "stdout",
     "output_type": "stream",
     "text": [
      "Getting embeddings for column \"feedback\"\n"
     ]
    }
   ],
   "source": [
    "# Ensure you have your API key set in your environment per the README: https://github.com/openai/openai-python#usage\n",
    "\n",
    "# This may take a few minutes\n",
    "for col in cols_to_embed:\n",
    "    print(f'Getting embeddings for column \"{col}\"')\n",
    "    df[col + \"-embedding\"] = df.loc[:, col].apply(get_embedding)\n",
    "\n",
    "\n",
    "df.to_csv(f\"{input_datapath.split('.')[0]}_with_embeddings.csv\")\n"
   ]
  },
  {
   "cell_type": "code",
   "execution_count": null,
   "metadata": {},
   "outputs": [],
   "source": []
  }
 ],
 "metadata": {
  "kernelspec": {
   "display_name": "openai",
   "language": "python",
   "name": "python3"
  },
  "language_info": {
   "codemirror_mode": {
    "name": "ipython",
    "version": 3
   },
   "file_extension": ".py",
   "mimetype": "text/x-python",
   "name": "python",
   "nbconvert_exporter": "python",
   "pygments_lexer": "ipython3",
   "version": "3.11.5"
  },
  "orig_nbformat": 4,
  "vscode": {
   "interpreter": {
    "hash": "365536dcbde60510dc9073d6b991cd35db2d9bac356a11f5b64279a5e6708b97"
   }
  }
 },
 "nbformat": 4,
 "nbformat_minor": 2
}
